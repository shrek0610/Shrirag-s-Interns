{
  "nbformat": 4,
  "nbformat_minor": 0,
  "metadata": {
    "colab": {
      "name": "Day04_Assignment.ipynb",
      "provenance": [],
      "include_colab_link": true
    },
    "kernelspec": {
      "name": "python3",
      "display_name": "Python 3"
    }
  },
  "cells": [
    {
      "cell_type": "markdown",
      "metadata": {
        "id": "view-in-github",
        "colab_type": "text"
      },
      "source": [
        "<a href=\"https://colab.research.google.com/github/shrek0610/Shrirag-s-Interns/blob/main/Day04_Assignment.ipynb\" target=\"_parent\"><img src=\"https://colab.research.google.com/assets/colab-badge.svg\" alt=\"Open In Colab\"/></a>"
      ]
    },
    {
      "cell_type": "markdown",
      "metadata": {
        "id": "JbWDdovrv9sN"
      },
      "source": [
        "QUESTION 1"
      ]
    },
    {
      "cell_type": "code",
      "metadata": {
        "id": "OMdf35xZdB3K"
      },
      "source": [
        "xyz=open(\"upgrade.txt\",\"w\")\n",
        "xyz.write(\"LetsUpgrade is very useful for learning Python from scratch\")\n",
        "xyz.close()"
      ],
      "execution_count": null,
      "outputs": []
    },
    {
      "cell_type": "code",
      "metadata": {
        "id": "_E3xjvBpiM6V"
      },
      "source": [
        " \n",
        "xyz=open(\"upgarde.txt\",\"r+\")\n",
        "content=xyz.read()\n",
        "xyz.close()"
      ],
      "execution_count": null,
      "outputs": []
    },
    {
      "cell_type": "code",
      "metadata": {
        "id": "--gSmsIHulav"
      },
      "source": [
        "xyz=open(\"upgrade.txt\",\"a\")\n",
        "xyz.write(\"regards LETSUPGRADE\")\n",
        "xyz.close()"
      ],
      "execution_count": null,
      "outputs": []
    },
    {
      "cell_type": "markdown",
      "metadata": {
        "id": "7fgUm-1BwPE0"
      },
      "source": [
        "QUESTION 2"
      ]
    },
    {
      "cell_type": "code",
      "metadata": {
        "id": "3rrr0P4z0Lvi"
      },
      "source": [
        "def fac(n):\n",
        "  if n==1:\n",
        "    return n;\n",
        "    else:\n",
        "  return n*fact(n-1)\n",
        "  num=int(input (\"Enter a Number:\"))\n",
        "  if num<0:\n",
        "    print(\"You entered a NEGATIVE Number\")\n",
        "    elif num==0:\n",
        "      print(\"You entered zero Number which factorial==1\")\n",
        "      else num>0:\n",
        "        print(\"The factorial of\",num,\"is\",fact(n))"
      ],
      "execution_count": null,
      "outputs": []
    }
  ]
}