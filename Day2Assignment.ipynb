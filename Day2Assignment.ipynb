{
  "nbformat": 4,
  "nbformat_minor": 0,
  "metadata": {
    "colab": {
      "name": "Day2Assignment.ipynb",
      "provenance": [],
      "authorship_tag": "ABX9TyNN3dG1231EOjp+8V5b6f0Z",
      "include_colab_link": true
    },
    "kernelspec": {
      "name": "python3",
      "display_name": "Python 3"
    }
  },
  "cells": [
    {
      "cell_type": "markdown",
      "metadata": {
        "id": "view-in-github",
        "colab_type": "text"
      },
      "source": [
        "<a href=\"https://colab.research.google.com/github/shrek0610/Shrirag-s-Interns/blob/main/Day2Assignment.ipynb\" target=\"_parent\"><img src=\"https://colab.research.google.com/assets/colab-badge.svg\" alt=\"Open In Colab\"/></a>"
      ]
    },
    {
      "cell_type": "code",
      "metadata": {
        "colab": {
          "base_uri": "https://localhost:8080/"
        },
        "id": "Xe67xFAdkY7P",
        "outputId": "c784ce0a-8a9e-4266-f2a2-4609ffa0d535"
      },
      "source": [
        " \n",
        "str1=\"Shrirag Nair\"\n",
        "str2=\"Hello\"\n",
        "print(str2)\n",
        "print(str1)\n",
        "print(str2+\" \" +str1) #concate\n",
        "print(len(str1)) #length function\n",
        "print(str1.upper()) #upper case function\n",
        "print(str1.swapcase()) #swapcase function\n",
        "print(str1.isalpha()) #isalpha function\n",
        "print(str1.find('l'))"
      ],
      "execution_count": null,
      "outputs": [
        {
          "output_type": "stream",
          "text": [
            "Hello\n",
            "Shrirag Nair\n",
            "Hello Shrirag Nair\n",
            "12\n",
            "SHRIRAG NAIR\n",
            "sHRIRAG nAIR\n",
            "False\n",
            "-1\n"
          ],
          "name": "stdout"
        }
      ]
    },
    {
      "cell_type": "code",
      "metadata": {
        "colab": {
          "base_uri": "https://localhost:8080/"
        },
        "id": "CJLn8ZwymrF-",
        "outputId": "98d5b340-3a9c-40d4-ffd9-6dd43794b0fb"
      },
      "source": [
        " \n",
        "list1=[72,36,25,83,20]\n",
        "list2=[\"hii\",\"Hello\",\"hey\"]\n",
        "List3=[72,36,25,83,20]\n",
        "print(list1)\n",
        "print(list2)\n",
        "print(type(list1))\n",
        "print(list1.append(\"you\"))\n",
        "print(list1)\n",
        "print(max(List3),min(List3))\n",
        "print(len(list1))\n",
        "print(list1.index(36))\n",
        "print(tuple(list1))"
      ],
      "execution_count": null,
      "outputs": [
        {
          "output_type": "stream",
          "text": [
            "[72, 36, 25, 83, 20]\n",
            "['hii', 'Hello', 'hey']\n",
            "<class 'list'>\n",
            "None\n",
            "[72, 36, 25, 83, 20, 'you']\n",
            "83 20\n",
            "6\n",
            "1\n",
            "(72, 36, 25, 83, 20, 'you')\n"
          ],
          "name": "stdout"
        }
      ]
    },
    {
      "cell_type": "code",
      "metadata": {
        "colab": {
          "base_uri": "https://localhost:8080/"
        },
        "id": "wSj0iWv6nXQX",
        "outputId": "6f8b573f-5484-4da4-ff3a-197e542ea7d5"
      },
      "source": [
        " \n",
        "self_dict={\"name\":\"Shrirag\", \"middle\":\"Shreedharan\",\"last\": \"Nair\"}\n",
        "print(self_dict)\n",
        "print(self_dict.get(\"name\"))   #get()\n",
        "print(self_dict.get(\"middle\"))\n",
        "print(self_dict.get(\"last\"))\n",
        "print(self_dict.items())  #items()\n",
        "self_dict.update({\"age\":19}) #update()\n",
        "print(self_dict)\n",
        "x=self_dict.values() #values()\n",
        "print(x)\n",
        "y=self_dict.popitem()\n",
        "print(y)\n",
        "print(self_dict)"
      ],
      "execution_count": null,
      "outputs": [
        {
          "output_type": "stream",
          "text": [
            "{'name': 'Shrirag', 'middle': 'Shreedharan', 'last': 'Nair'}\n",
            "Shrirag\n",
            "Shreedharan\n",
            "Nair\n",
            "dict_items([('name', 'Shrirag'), ('middle', 'Shreedharan'), ('last', 'Nair')])\n",
            "{'name': 'Shrirag', 'middle': 'Shreedharan', 'last': 'Nair', 'age': 19}\n",
            "dict_values(['Shrirag', 'Shreedharan', 'Nair', 19])\n",
            "('age', 19)\n",
            "{'name': 'Shrirag', 'middle': 'Shreedharan', 'last': 'Nair'}\n"
          ],
          "name": "stdout"
        }
      ]
    }
  ]
}